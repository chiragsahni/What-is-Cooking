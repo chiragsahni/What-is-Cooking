{
 "cells": [
  {
   "cell_type": "code",
   "execution_count": 30,
   "metadata": {
    "_uuid": "24d844c87aea34faf7cd61ee9e310be1e387a17d"
   },
   "outputs": [],
   "source": [
    "import pandas as pd\n",
    "from sklearn.feature_extraction.text import TfidfVectorizer\n",
    "from sklearn.model_selection import train_test_split\n",
    "from sklearn.preprocessing import LabelEncoder\n",
    "from sklearn.svm import SVC\n",
    "from sklearn.svm import LinearSVC\n",
    "import numpy as np\n",
    "from sklearn.neighbors import KNeighborsClassifier\n",
    "from sklearn.tree import DecisionTreeClassifier\n",
    "from sklearn.naive_bayes import MultinomialNB\n",
    "import time"
   ]
  },
  {
   "cell_type": "code",
   "execution_count": 31,
   "metadata": {
    "_uuid": "2de050903e4e69eec3070a1d273a513d8b84bbe6"
   },
   "outputs": [],
   "source": [
    "train = pd.read_json(\"/Users/chirag/Desktop/Spring21/ML/Project_Whats-Cooking/data/train.json\")"
   ]
  },
  {
   "cell_type": "code",
   "execution_count": 32,
   "metadata": {
    "_uuid": "ac2df5feed390ef2be8492ecdeb1a38c0e144bde"
   },
   "outputs": [
    {
     "name": "stdout",
     "output_type": "stream",
     "text": [
      "      id      cuisine                                        ingredients\n",
      "0  10259        greek  [romaine lettuce, black olives, grape tomatoes...\n",
      "1  25693  southern_us  [plain flour, ground pepper, salt, tomatoes, g...\n",
      "2  20130     filipino  [eggs, pepper, salt, mayonaise, cooking oil, g...\n",
      "3  22213       indian                [water, vegetable oil, wheat, salt]\n",
      "4  13162       indian  [black pepper, shallots, cornflour, cayenne pe...\n",
      "id             0\n",
      "cuisine        0\n",
      "ingredients    0\n",
      "dtype: int64\n"
     ]
    }
   ],
   "source": [
    "print(train.head())\n",
    "print (train.isnull().sum())"
   ]
  },
  {
   "cell_type": "code",
   "execution_count": 33,
   "metadata": {
    "_uuid": "c1708f9eea348a167149cbcf4c1b6d727be14297"
   },
   "outputs": [
    {
     "name": "stdout",
     "output_type": "stream",
     "text": [
      "       cuisine\n",
      "0        greek\n",
      "1  southern_us\n",
      "2     filipino\n",
      "3       indian\n",
      "4       indian\n",
      "                                         ingredients\n",
      "0  [romaine lettuce, black olives, grape tomatoes...\n",
      "1  [plain flour, ground pepper, salt, tomatoes, g...\n",
      "2  [eggs, pepper, salt, mayonaise, cooking oil, g...\n",
      "3                [water, vegetable oil, wheat, salt]\n",
      "4  [black pepper, shallots, cornflour, cayenne pe...\n"
     ]
    }
   ],
   "source": [
    "y = train[['cuisine']]\n",
    "print(y.head())\n",
    "X  = train[['ingredients']]\n",
    "print(X.head())"
   ]
  },
  {
   "cell_type": "code",
   "execution_count": 34,
   "metadata": {
    "_uuid": "6464cc2760efd9c52c7ad5bd727a35c7bd7061b0"
   },
   "outputs": [
    {
     "name": "stdout",
     "output_type": "stream",
     "text": [
      "39774\n"
     ]
    }
   ],
   "source": [
    "docs = []\n",
    "for ingredient in train.ingredients:\n",
    "    temp = \"\"\n",
    "    for item in ingredient:\n",
    "        temp = temp + item + \" \"\n",
    "    docs.append(temp)\n",
    "print(len(docs))\n",
    "#sub = \"10\"\n",
    "#print (\"\\n\".join(s for s in docs if sub in s))\n",
    "#tokens = pd.DataFrame({\"token\":docs})\n",
    "#tokens.to_csv(\"tokens1.csv\",index=False)"
   ]
  },
  {
   "cell_type": "code",
   "execution_count": 35,
   "metadata": {
    "_uuid": "d0a83a5624d023a152d30707a58f3345c83d5c67"
   },
   "outputs": [
    {
     "data": {
      "text/plain": [
       "(39774, 3010)"
      ]
     },
     "execution_count": 35,
     "metadata": {},
     "output_type": "execute_result"
    }
   ],
   "source": [
    "vectorizer = TfidfVectorizer()\n",
    "X_transformed = vectorizer.fit_transform(docs)\n",
    "X_transformed.shape"
   ]
  },
  {
   "cell_type": "code",
   "execution_count": 36,
   "metadata": {},
   "outputs": [
    {
     "name": "stdout",
     "output_type": "stream",
     "text": [
      "  (0, 738)\t0.3343204746101372\n",
      "  (0, 522)\t0.14568369866765699\n",
      "  (0, 958)\t0.3040361765035925\n",
      "  (0, 184)\t0.20748802168948122\n",
      "  (0, 1088)\t0.38853112215987895\n",
      "  (0, 2403)\t0.23007896012035983\n",
      "  (0, 1872)\t0.1645493089953018\n",
      "  (0, 2181)\t0.23913220198081458\n",
      "  (0, 1998)\t0.10208411357610164\n",
      "  (0, 1094)\t0.10531073154596084\n",
      "  (0, 2770)\t0.15183517837377775\n",
      "  (0, 1169)\t0.35031170238526027\n",
      "  (0, 1868)\t0.26100924108701357\n",
      "  (0, 247)\t0.1398962004921347\n",
      "  (0, 1527)\t0.2663871237012894\n",
      "  (0, 2295)\t0.3426671291173114\n",
      "  (1, 1860)\t0.11553051231205462\n",
      "  (1, 2877)\t0.2107912072389798\n",
      "  (1, 1707)\t0.20955261084571736\n",
      "  (1, 1666)\t0.3984043568116592\n",
      "  (1, 676)\t0.2182707943085128\n",
      "  (1, 2983)\t0.27471923855187746\n",
      "  (1, 1190)\t0.18772612842727063\n",
      "  (1, 898)\t0.19924115060270703\n",
      "  (1, 2747)\t0.2696867216449215\n",
      "  :\t:\n",
      "  (39772, 676)\t0.10613772616897188\n",
      "  (39772, 2349)\t0.052210298712866955\n",
      "  (39772, 1013)\t0.08838193470073283\n",
      "  (39772, 1094)\t0.06122277701590711\n",
      "  (39773, 490)\t0.2569778430076833\n",
      "  (39773, 2293)\t0.4008717233488941\n",
      "  (39773, 204)\t0.22131499002761051\n",
      "  (39773, 545)\t0.25485666160865017\n",
      "  (39773, 1881)\t0.23997116839013816\n",
      "  (39773, 861)\t0.20997314823140387\n",
      "  (39773, 2943)\t0.18455174328354515\n",
      "  (39773, 1356)\t0.2684656279767649\n",
      "  (39773, 596)\t0.19153427806269685\n",
      "  (39773, 577)\t0.18160175512251153\n",
      "  (39773, 1044)\t0.1372262665875976\n",
      "  (39773, 2647)\t0.1481172140348383\n",
      "  (39773, 1873)\t0.14466880742252153\n",
      "  (39773, 550)\t0.23868471299460903\n",
      "  (39773, 1190)\t0.3453390547403521\n",
      "  (39773, 2349)\t0.09875816327159824\n",
      "  (39773, 1204)\t0.13717173457105292\n",
      "  (39773, 1998)\t0.22451500903133764\n",
      "  (39773, 1094)\t0.11580567737658891\n",
      "  (39773, 2770)\t0.1669666084647471\n",
      "  (39773, 247)\t0.15383782851543704\n"
     ]
    }
   ],
   "source": [
    "print(X_transformed)"
   ]
  },
  {
   "cell_type": "code",
   "execution_count": 37,
   "metadata": {
    "_uuid": "5e68d7f2cc75d0c98666cc6dfd5b5a6a441d4f82"
   },
   "outputs": [
    {
     "data": {
      "text/plain": [
       "array([ 6, 16,  4, ...,  8,  3, 13])"
      ]
     },
     "execution_count": 37,
     "metadata": {},
     "output_type": "execute_result"
    }
   ],
   "source": [
    "target_enc = LabelEncoder()\n",
    "y = target_enc.fit_transform(train.cuisine)\n",
    "y = y.reshape(-1)\n",
    "y"
   ]
  },
  {
   "cell_type": "code",
   "execution_count": 38,
   "metadata": {
    "_uuid": "587d60c72053f03ac4ac09ed38b523adb3ad74a7"
   },
   "outputs": [
    {
     "data": {
      "text/plain": [
       "(13126, 1)"
      ]
     },
     "execution_count": 38,
     "metadata": {},
     "output_type": "execute_result"
    }
   ],
   "source": [
    "data_train, data_test, label_train, label_test = train_test_split(X_transformed, y, test_size=0.33, random_state=7)\n",
    "label_train.shape\n",
    "#data_train.describe()\n",
    "label_test = label_test.reshape(-1,1)\n",
    "label_test.shape"
   ]
  },
  {
   "cell_type": "code",
   "execution_count": 42,
   "metadata": {},
   "outputs": [
    {
     "name": "stdout",
     "output_type": "stream",
     "text": [
      "  (0, 1694)\t0.4057631630560264\n",
      "  (0, 569)\t0.37699556116636646\n",
      "  (0, 2855)\t0.2722670030705319\n",
      "  (0, 1496)\t0.23346245980018276\n",
      "  (0, 2183)\t0.23465711831061825\n",
      "  (0, 46)\t0.23454772817990893\n",
      "  (0, 1471)\t0.2661389990960958\n",
      "  (0, 597)\t0.2829502865594973\n",
      "  (0, 2647)\t0.1718221731503834\n",
      "  (0, 375)\t0.19256079143818164\n",
      "  (0, 1860)\t0.1232711219476317\n",
      "  (0, 2877)\t0.22491433728657956\n",
      "  (0, 1707)\t0.22359275423477634\n",
      "  (0, 898)\t0.21259042032630243\n",
      "  (0, 2349)\t0.11456360653445172\n",
      "  (0, 1204)\t0.15912495844853144\n",
      "  (0, 1013)\t0.19393402147521174\n",
      "  (1, 1713)\t0.28710803296569226\n",
      "  (1, 2829)\t0.3388650304821981\n",
      "  (1, 822)\t0.28140467187803725\n",
      "  (1, 776)\t0.3053000225607305\n",
      "  (1, 997)\t0.28987529143626606\n",
      "  (1, 2238)\t0.1858494345058098\n",
      "  (1, 1118)\t0.21691419488388608\n",
      "  (1, 1645)\t0.3348142094975021\n",
      "  :\t:\n",
      "  (26647, 2927)\t0.28933695296110207\n",
      "  (26647, 1987)\t0.25841732943165674\n",
      "  (26647, 379)\t0.21945973543794942\n",
      "  (26647, 1233)\t0.2192265640449872\n",
      "  (26647, 329)\t0.21073944975435854\n",
      "  (26647, 2971)\t0.23539636566317101\n",
      "  (26647, 1178)\t0.16567879006363528\n",
      "  (26647, 2575)\t0.18670117449810325\n",
      "  (26647, 2183)\t0.14579343899940592\n",
      "  (26647, 46)\t0.14572547445836184\n",
      "  (26647, 1313)\t0.19052616607301165\n",
      "  (26647, 2491)\t0.1820148366992177\n",
      "  (26647, 283)\t0.1729565389962913\n",
      "  (26647, 1518)\t0.2875923415886796\n",
      "  (26647, 488)\t0.18412312101945222\n",
      "  (26647, 2374)\t0.21972709494119627\n",
      "  (26647, 536)\t0.1149879702864244\n",
      "  (26647, 1860)\t0.15317771672513658\n",
      "  (26647, 2877)\t0.2794804176353763\n",
      "  (26647, 1666)\t0.2641149445651206\n",
      "  (26647, 676)\t0.14469866544715113\n",
      "  (26647, 2983)\t0.18212013804708946\n",
      "  (26647, 2349)\t0.07117884299049085\n",
      "  (26647, 1013)\t0.12049201035712348\n",
      "  (26647, 1998)\t0.16181668479294303\n"
     ]
    }
   ],
   "source": [
    "print(data_train)"
   ]
  },
  {
   "cell_type": "code",
   "execution_count": 43,
   "metadata": {
    "_uuid": "bf254283f5af78d2b542caf921b984614f8ceb77",
    "jupyter": {
     "outputs_hidden": true
    }
   },
   "outputs": [],
   "source": [
    "def tokenize(df):\n",
    "    doc = []\n",
    "    for ingredient in df.ingredients:\n",
    "        temp = \"\"\n",
    "        for item in ingredient:\n",
    "            temp = temp + item + \" \"\n",
    "        doc.append(temp)\n",
    "    return doc"
   ]
  },
  {
   "cell_type": "code",
   "execution_count": 44,
   "metadata": {
    "_uuid": "50f74ae234df9937e7073d1684272b0633298836"
   },
   "outputs": [
    {
     "name": "stdout",
     "output_type": "stream",
     "text": [
      "Training...\n",
      "Training Time0.5202980041503906\n",
      "Predicting...\n",
      "Linear SVC Score- 0.7914825537101935\n",
      "Predicting Time0.005018711090087891\n"
     ]
    }
   ],
   "source": [
    "data_train, data_test, label_train, label_test = train_test_split(X_transformed, y, test_size=0.33, random_state=7)\n",
    "lsvc = LinearSVC()\n",
    "\n",
    "s = time.time()\n",
    "print(\"Training...\")\n",
    "lsvc.fit(data_train, label_train)\n",
    "print(\"Training Time\" + str(time.time() -s ))\n",
    "s= time.time()\n",
    "print(\"Predicting...\")\n",
    "print(\"Linear SVC Score- \"+ str(lsvc.score(data_test, label_test)))\n",
    "print(\"Predicting Time\" + str(time.time() -s ))"
   ]
  },
  {
   "cell_type": "code",
   "execution_count": 45,
   "metadata": {
    "_uuid": "602fb74ea5f816535c1ac5053ac6d35aed5ee2a8"
   },
   "outputs": [
    {
     "data": {
      "text/plain": [
       "(20, 3010)"
      ]
     },
     "execution_count": 45,
     "metadata": {},
     "output_type": "execute_result"
    }
   ],
   "source": [
    "lsvc.coef_.shape"
   ]
  },
  {
   "cell_type": "code",
   "execution_count": null,
   "metadata": {
    "_uuid": "2b5fe8ae4d22b1eb70dc1b7869b7ec8bad8b5859"
   },
   "outputs": [],
   "source": [
    "s = time.time()\n",
    "print (cval.cross_val_score(lsvc, data_train, label_train, cv=10).mean())\n",
    "print(\"Training Time\" + str(time.time() -s ))"
   ]
  }
 ],
 "metadata": {
  "anaconda-cloud": {},
  "kernelspec": {
   "display_name": "Python 3",
   "language": "python",
   "name": "python3"
  },
  "language_info": {
   "codemirror_mode": {
    "name": "ipython",
    "version": 3
   },
   "file_extension": ".py",
   "mimetype": "text/x-python",
   "name": "python",
   "nbconvert_exporter": "python",
   "pygments_lexer": "ipython3",
   "version": "3.8.5"
  }
 },
 "nbformat": 4,
 "nbformat_minor": 4
}
